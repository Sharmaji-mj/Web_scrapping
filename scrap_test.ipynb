{
 "cells": [
  {
   "cell_type": "code",
   "execution_count": 15,
   "id": "1671300f",
   "metadata": {},
   "outputs": [
    {
     "name": "stdout",
     "output_type": "stream",
     "text": [
      "{'Notice Number': '372743-2025', 'Link': 'https://ted.europa.eu/en/notice/-/detail/372743-2025', 'Description': 'Germany – Systems analysis and programming services – Nachrüstung der Sicherheits-SPS auf SILworX an den Schiffsschleusen: Kostheim, Eddersheim, Krotzenburg, Kleinostheim, Heubach, Freudenberg und Faulbach am Main\\nPlace of performance: Germany,Main-Taunus-Kreis\\nMain nature of the contract: Services,Supplies\\nType of procedure: Open\\nOfficial name: Fachstelle Maschinenwesen Süd beim Wasserstraßen und Schifffahrtsamt Donau MDK', 'Country': 'Germany', 'Publication Date': '10/06/2025', 'Deadline': ''}\n"
     ]
    }
   ],
   "source": [
    "from selenium import webdriver\n",
    "# from selenium.webdriver.support.ui import WebDriverWait\n",
    "import pandas as pd\n",
    "from selenium.webdriver.chrome.service import Service\n",
    "from webdriver_manager.chrome import ChromeDriverManager\n",
    "from selenium.webdriver.common.by import By\n",
    "import time\n",
    "import datetime\n",
    "t_day=datetime.datetime.now()\n",
    "# Set up the driver\n",
    "driver = webdriver.Chrome(service=Service(ChromeDriverManager().install()))\n",
    "yr=t_day.strftime(\"%Y\")\n",
    "mt=t_day.strftime(\"%m\")\n",
    "# Open the website\n",
    "driver.get(f\"https://ted.europa.eu/en/search/result?search-scope=ACTIVE&scope=ACTIVE&onlyLatestVersions=false&facet.cpv=comp%2C72000000&facet.contract-nature=services&facet.place-of-performance=SPCY%2CDEU&facet.publication-date={yr}%2C{mt}&sortColumn=publication-number&sortOrder=DESC&page=1\")\n",
    "\n",
    "\n",
    "# print(\"loading page\")\n",
    "# t_find=WebDriverWait(driver, 30,poll_frequency=.2).until(\n",
    "#     lambda d: d.find_elements(By.CSS_SELECTOR, \"table tbody tr\")[0].find_elements(By.TAG_NAME, \"td\").is_displayed()\n",
    "# )\n",
    "time.sleep(10)\n",
    "\n",
    "# Find all rows in the tender results table\n",
    "rows = driver.find_elements(By.CSS_SELECTOR, \"table tbody tr\")\n",
    "\n",
    "# Prepare data\n",
    "data = []\n",
    "for row in rows:\n",
    "    cols = row.find_elements(By.TAG_NAME, \"td\")\n",
    "    if cols and len(cols) >= 5:\n",
    "        notice_elem = cols[1].find_element(By.TAG_NAME, \"a\")\n",
    "        notice_number = notice_elem.text.strip()\n",
    "        notice_link = notice_elem.get_attribute(\"href\")\n",
    "        description = cols[2].text.strip()\n",
    "        country = cols[3].text.strip()\n",
    "        publication_date = cols[4].text.strip()\n",
    "        try:\n",
    "            deadline = cols[5].text.strip()\n",
    "        except IndexError:\n",
    "            deadline = \"\"\n",
    "\n",
    "        data.append({\n",
    "            \"Notice Number\": notice_number,\n",
    "            \"Link\": notice_link,\n",
    "            \"Description\": description,\n",
    "            \"Country\": country,\n",
    "            \"Publication Date\": publication_date,\n",
    "            \"Deadline\": deadline\n",
    "        })\n",
    "print(data[0])\n",
    "# Quit driver\n",
    "driver.quit()\n",
    "\n",
    "# Convert to DataFrame\n",
    "df = pd.DataFrame(data)\n",
    "df['Publication Date']=pd.to_datetime(df[\"Publication Date\"],format=\"%d/%m/%Y\")\n",
    "df2=df[df[\"Publication Date\"]==(t_day-datetime.timedelta(days=1))]"
   ]
  },
  {
   "cell_type": "code",
   "execution_count": null,
   "id": "c229646a",
   "metadata": {},
   "outputs": [],
   "source": [
    "t_1day=(t_day-datetime.timedelta(days=1)).date()"
   ]
  },
  {
   "cell_type": "code",
   "execution_count": 24,
   "id": "1e1f2da3",
   "metadata": {},
   "outputs": [],
   "source": [
    "df2=df[df['Publication Date'].dt.date==t_1day]"
   ]
  },
  {
   "cell_type": "code",
   "execution_count": 25,
   "id": "683ea6eb",
   "metadata": {},
   "outputs": [
    {
     "name": "stdout",
     "output_type": "stream",
     "text": [
      "24 number of tenders present\n"
     ]
    }
   ],
   "source": [
    "if df2.size==0:\n",
    "    print(\"no new tenders\")\n",
    "else:\n",
    "    print(df2.shape[0], \"number of tenders present\")"
   ]
  },
  {
   "cell_type": "code",
   "execution_count": 26,
   "id": "bec4bf5d",
   "metadata": {},
   "outputs": [],
   "source": [
    "df2.to_csv(\"tender1.csv\", index=False,encoding='utf-8')"
   ]
  },
  {
   "cell_type": "code",
   "execution_count": 36,
   "id": "8b98e859",
   "metadata": {},
   "outputs": [],
   "source": [
    "df2.to_csv(\"tender.csv\", index=False)\n"
   ]
  },
  {
   "cell_type": "code",
   "execution_count": 35,
   "id": "e830ffa1",
   "metadata": {},
   "outputs": [],
   "source": [
    "df2.to_html(\"index.html\")"
   ]
  }
 ],
 "metadata": {
  "kernelspec": {
   "display_name": "Python 3",
   "language": "python",
   "name": "python3"
  },
  "language_info": {
   "codemirror_mode": {
    "name": "ipython",
    "version": 3
   },
   "file_extension": ".py",
   "mimetype": "text/x-python",
   "name": "python",
   "nbconvert_exporter": "python",
   "pygments_lexer": "ipython3",
   "version": "3.13.1"
  }
 },
 "nbformat": 4,
 "nbformat_minor": 5
}
